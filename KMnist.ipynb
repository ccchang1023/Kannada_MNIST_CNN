{
 "cells": [
  {
   "cell_type": "code",
   "execution_count": 2,
   "metadata": {},
   "outputs": [],
   "source": [
    "import os, time\n",
    "import numpy as np\n",
    "import torch\n",
    "from torchvision import transforms, datasets\n",
    "from torch.utils.data import DataLoader, Dataset\n",
    "from PIL import Image\n",
    "import pandas as pd\n",
    "device = \"cuda\""
   ]
  },
  {
   "cell_type": "code",
   "execution_count": 34,
   "metadata": {},
   "outputs": [],
   "source": [
    "import torch.nn as nn\n",
    "import torch.nn.functional as F\n",
    "class convNet(nn.Module):\n",
    "    def __init__(self,in_channels):\n",
    "        super(convNet,self).__init__()\n",
    "        self.c1 = nn.Conv2d(in_channels=in_channels, out_channels=64,kernel_size=3)\n",
    "        self.bn1 = nn.BatchNorm2d(num_features=64,momentum=0.1)\n",
    "        self.d1 = nn.Dropout(0.5)\n",
    "        \n",
    "        self.c2 = nn.Conv2d(64,64,3)\n",
    "        self.bn2 = nn.BatchNorm2d(64, momentum=0.1)\n",
    "        self.d2 = nn.Dropout(0.5)\n",
    "        \n",
    "        self.c3 = nn.Conv2d(64,128,3)\n",
    "        self.bn3 = nn.BatchNorm2d(128, momentum=0.1)\n",
    "        self.d3 = nn.Dropout(0.5)\n",
    "        \n",
    "        self.fc1 = nn.Linear(128*3*3,256)\n",
    "        self.fc2 = nn.Linear(256,256)\n",
    "        self.fc3 = nn.Linear(256,256)\n",
    "        self.out = nn.Linear(256,10)\n",
    "\n",
    "    def forward(self,x):\n",
    "        x = F.max_pool2d(self.c1(x), 2)\n",
    "        x = F.relu(self.bn1(x))\n",
    "        x = self.d1(x)\n",
    "        \n",
    "        x = F.max_pool2d(self.c2(x), 2)\n",
    "        x = F.relu(self.bn2(x))\n",
    "        x = self.d2(x)\n",
    "        \n",
    "        x = self.c3(x)\n",
    "        x = F.relu(self.bn3(x))\n",
    "        x = self.d3(x)\n",
    "        \n",
    "        x = x.view(-1, 128*3*3) #reshape\n",
    "        x = F.relu(self.fc1(x))\n",
    "        x = F.relu(self.fc2(x))\n",
    "        x = F.relu(self.fc3(x))\n",
    "        return self.out(x)\n",
    "                "
   ]
  },
  {
   "cell_type": "code",
   "execution_count": null,
   "metadata": {},
   "outputs": [],
   "source": [
    "count_parameters(convNet(1))"
   ]
  },
  {
   "cell_type": "code",
   "execution_count": 5,
   "metadata": {},
   "outputs": [],
   "source": [
    "def count_parameters(model):\n",
    "    total_param = 0\n",
    "    for name, param in model.named_parameters():\n",
    "        if param.requires_grad:\n",
    "            num_param = np.prod(param.size())\n",
    "            if param.dim() > 1:\n",
    "                print(name, ':', 'x'.join(str(x) for x in list(param.size())), '=', num_param)\n",
    "            else:\n",
    "                print(name, ':', num_param)\n",
    "            total_param += num_param\n",
    "    return total_param"
   ]
  },
  {
   "cell_type": "code",
   "execution_count": 7,
   "metadata": {},
   "outputs": [],
   "source": [
    "trans = transforms.Compose([\n",
    "        transforms.RandomResizedCrop(28),\n",
    "        transforms.RandomHorizontalFlip(),\n",
    "        transforms.ToTensor(),\n",
    "#         transforms.Normalize(mean=[0.485, 0.456, 0.406],\n",
    "#                              std=[0.229, 0.224, 0.225])\n",
    "    ])\n",
    "\n",
    "class KMnistDataset(Dataset):\n",
    "    def __init__(self,len=None,transform=None):\n",
    "        self.len = len\n",
    "        self.transform = transform\n",
    "        self.data = pd.read_csv(\"./dataset/train.csv\")\n",
    "        print(\"data shape:\", np.shape(self.data))\n",
    "\n",
    "    def __getitem__(self, idx):\n",
    "        img = self.data.iloc[idx, 1:].values.astype(np.uint8).reshape((28, 28))\n",
    "        label = self.data.iloc[idx, 0]  #(num, 1)\n",
    "        img = Image.fromarray(img)\n",
    "        if self.transform is not None:\n",
    "            img = self.transform(img)\n",
    "            label = torch.as_tensor(label, dtype=torch.uint8)\n",
    "        else:\n",
    "            img = torch.as_tensor(img, dtype=torch.uint8)\n",
    "            label = torch.as_tensor(label, dtype=torch.uint8)\n",
    "            \n",
    "        return img, label\n",
    "\n",
    "    def __len__(self):\n",
    "        return self.len if self.len!=None else len(self.imgs)"
   ]
  },
  {
   "cell_type": "code",
   "execution_count": 9,
   "metadata": {},
   "outputs": [
    {
     "name": "stdout",
     "output_type": "stream",
     "text": [
      "data shape: (60000, 785)\n"
     ]
    }
   ],
   "source": [
    "batch_size = 4\n",
    "num_workers = 0\n",
    "# kmnist_dataset = datasets.ImageFolder(kmnist_dataset, transform=None)\n",
    "kmnist_dataset = KMnistDataset(len=20,transform=trans)\n",
    "dataset_loader = DataLoader(kmnist_dataset, batch_size=batch_size, shuffle=True, num_workers=num_workers)"
   ]
  },
  {
   "cell_type": "code",
   "execution_count": null,
   "metadata": {},
   "outputs": [],
   "source": [
    "kmnist_dataset.data.head(3)"
   ]
  },
  {
   "cell_type": "code",
   "execution_count": null,
   "metadata": {},
   "outputs": [],
   "source": [
    "type(kmnist_dataset.data.iloc[20,1:].values)  #numpy ndarray\n",
    "type(kmnist_dataset.data.iloc[20,0])  #numpy int64\n",
    "kmnist_dataset.data.head(5)"
   ]
  },
  {
   "cell_type": "code",
   "execution_count": null,
   "metadata": {},
   "outputs": [
    {
     "name": "stdout",
     "output_type": "stream",
     "text": [
      "===================Best Loss:==================\n",
      "2.3329193592071533\n",
      "===================Best Loss:==================\n",
      "2.2780697345733643\n",
      "===================Best Loss:==================\n",
      "2.277414321899414\n",
      "===================Best Loss:==================\n",
      "2.266037702560425\n",
      "===================Best Loss:==================\n",
      "2.26497745513916\n",
      "===================Best Loss:==================\n",
      "2.26129150390625\n",
      "===================Best Loss:==================\n",
      "2.259551525115967\n",
      "Ep:100, rounds:0, loss:2.3284902572631836\n",
      "Ep:100, rounds:1, loss:2.3189139366149902\n",
      "Ep:100, rounds:2, loss:2.3024637699127197\n",
      "Ep:100, rounds:3, loss:2.295393466949463\n",
      "Ep:100, rounds:4, loss:2.300130605697632\n",
      "===================Best Loss:==================\n",
      "2.2537155151367188\n",
      "Ep:200, rounds:0, loss:2.28549861907959\n",
      "Ep:200, rounds:1, loss:2.320671558380127\n",
      "Ep:200, rounds:2, loss:2.30633282661438\n",
      "Ep:200, rounds:3, loss:2.286790370941162\n",
      "Ep:200, rounds:4, loss:2.3055667877197266\n",
      "Ep:300, rounds:0, loss:2.286898374557495\n",
      "Ep:300, rounds:1, loss:2.283728837966919\n",
      "Ep:300, rounds:2, loss:2.30772066116333\n",
      "Ep:300, rounds:3, loss:2.3089983463287354\n",
      "Ep:300, rounds:4, loss:2.3411078453063965\n"
     ]
    }
   ],
   "source": [
    "def main():\n",
    "    epochs = 50000\n",
    "    min_loss = 10000\n",
    "    lr = 1e-3\n",
    "    model = convNet(in_channels=1)\n",
    "    model.cuda()\n",
    "    criterion = nn.CrossEntropyLoss()\n",
    "    optimizer = torch.optim.SGD(model.parameters(),lr=lr)\n",
    "#     optimizer = torch.optim.SGD(net_Momentum.parameters(),lr=Learning_rate,momentum=0.8,nesterov=True)\n",
    "#     optimizer = torch.optim.RMSprop(net_RMSprop.parameters(),lr=Learning_rate,alpha=0.9)\n",
    "#     optimizer = torch.optim.Adam(model.parameters(),lr=lr,betas=(0.9,0.99))\n",
    "#     optimizer = torch.optim.Adagrad(net_Adagrad.parameters(),lr=Learning_rate)\n",
    "    \n",
    "    for ep in range(1,epochs):\n",
    "        model.train()\n",
    "        for idx, data in enumerate(dataset_loader):\n",
    "            img, target = data\n",
    "            img, target = img.to(device), target.to(device,dtype=torch.long)\n",
    "#             print(np.shape(img),np.shape(target)) #Tensor(4,1,28,28), Tensor(4)\n",
    "#             print(np.max(img.cpu().numpy()),np.min(img.cpu().numpy())) #1.0 0.0\n",
    "            pred = model(img)\n",
    "#             print(pred.size())\n",
    "#             print(target.size())\n",
    "            loss = criterion(pred,target)\n",
    "            if loss.item() < min_loss:\n",
    "                print(\"===================Best Loss:==================\")\n",
    "                print(loss.item())\n",
    "                min_loss = loss    \n",
    "            if ep%100==0:\n",
    "                print(\"Ep:{}, rounds:{}, loss:{}\".format(ep,idx,loss))\n",
    "                \n",
    "            optimizer.zero_grad()\n",
    "            loss.backward()\n",
    "            optimizer.step()\n",
    "    \n",
    "    ###Test\n",
    "#     images, labels = data\n",
    "#     outputs = net(images)\n",
    "#     _, predicted = torch.max(outputs.data, 1)\n",
    "#     total += labels.size(0)\n",
    "#     correct += (predicted == labels).sum().item()\n",
    "\n",
    "            \n",
    "    \n",
    "if __name__ == \"__main__\":\n",
    "    main()\n",
    "    "
   ]
  },
  {
   "cell_type": "code",
   "execution_count": null,
   "metadata": {},
   "outputs": [],
   "source": []
  }
 ],
 "metadata": {
  "kernelspec": {
   "display_name": "Python 3",
   "language": "python",
   "name": "python3"
  },
  "language_info": {
   "codemirror_mode": {
    "name": "ipython",
    "version": 3
   },
   "file_extension": ".py",
   "mimetype": "text/x-python",
   "name": "python",
   "nbconvert_exporter": "python",
   "pygments_lexer": "ipython3",
   "version": "3.6.9"
  }
 },
 "nbformat": 4,
 "nbformat_minor": 4
}
