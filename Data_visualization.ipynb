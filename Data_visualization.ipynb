{
 "cells": [
  {
   "cell_type": "code",
   "execution_count": 1,
   "metadata": {},
   "outputs": [],
   "source": [
    "import os, time\n",
    "import numpy as np\n",
    "import torch\n",
    "from torchvision import transforms, datasets\n",
    "from torch.utils.data import DataLoader, Dataset\n",
    "from PIL import Image\n",
    "import matplotlib.pyplot as plt\n",
    "import pandas as pd\n",
    "from torchsummary import summary\n",
    "device = \"cuda\""
   ]
  },
  {
   "cell_type": "code",
   "execution_count": null,
   "metadata": {},
   "outputs": [],
   "source": [
    "from model.models import convNet, convNet_val\n",
    "\n",
    "dig_model = convNet_val(in_channels=1)\n",
    "dig_model.cuda()\n",
    "dig_model.load_state_dict(torch.load(\"Kmnist_saved_model/Fold4_ep119_loss0.000_acc0.9922\"))\n",
    "\n",
    "model = convNet(in_channels=1)\n",
    "model.cuda()\n",
    "model.load_state_dict(torch.load(\"Kmnist_saved_model/ep70_acc0.9978\"))\n"
   ]
  },
  {
   "cell_type": "code",
   "execution_count": 27,
   "metadata": {},
   "outputs": [],
   "source": [
    "trans_dig = transforms.Compose([\n",
    "        transforms.ToTensor(),  #Take Image as input and convert to tensor with value from 0 to1    \n",
    "        transforms.Normalize(mean=[0.1126489],std=[0.28132638])  #dig_val distribution\n",
    "    ])\n",
    "\n",
    "trans = transforms.Compose([\n",
    "        transforms.ColorJitter(0.5,0.2,0.2,0.5),\n",
    "        transforms.RandomAffine(degrees=35,translate=(0.2,0.2),scale=[0.8,1.1],shear=15),\n",
    "        transforms.ToTensor(),  #Take Image as input and convert to tensor with value from 0 to1    \n",
    "#         transforms.Normalize(mean=[0.08194405],std=[0.238141])\n",
    "    ])\n",
    "\n",
    "global_data = pd.read_csv(\"./dataset/train.csv\")\n",
    "global_data_dig = pd.read_csv(\"./dataset/Dig-MNIST.csv\")\n",
    "\n",
    "class KMnistDataset(Dataset):\n",
    "    def __init__(self,data_len=None, is_validate=False,validate_rate=None):\n",
    "        self.is_validate = is_validate\n",
    "        self.data = global_data_dig\n",
    "#         self.data = global_data\n",
    "        print(\"data shape:\", np.shape(self.data))\n",
    "        if data_len == None:\n",
    "            data_len = len(self.data)\n",
    "        \n",
    "        if self.is_validate:\n",
    "            self.len = int(data_len*validate_rate)\n",
    "            self.offset = int(data_len*(1-validate_rate))\n",
    "            self.transform = trans_dig\n",
    "        else:\n",
    "            self.len = int(data_len*(1-validate_rate))\n",
    "            self.offset = 0\n",
    "            self.transform = trans\n",
    "        \n",
    "    def __getitem__(self, idx):\n",
    "        idx += self.offset\n",
    "        img = self.data.iloc[idx, 1:].values.astype(np.uint8).reshape((28, 28))  #value: 0~255\n",
    "        label = self.data.iloc[idx, 0]  #(num,)\n",
    "        img = Image.fromarray(img)\n",
    "        img = self.transform(img)     #value: 0~1, shape:(1,28,28)\n",
    "        label = torch.as_tensor(label, dtype=torch.uint8)    #value: 0~9, shape(1)\n",
    "        return img, label\n",
    "\n",
    "    def __len__(self):\n",
    "        return self.len"
   ]
  },
  {
   "cell_type": "code",
   "execution_count": null,
   "metadata": {},
   "outputs": [],
   "source": [
    "dig_data = pd.read_csv(\"./dataset/Dig-MNIST-Augmented.csv\")\n",
    "for i in range(10,20):\n",
    "    fig, axes = plt.subplots(1,2,figsize=(4,2))\n",
    "    img2 = dig_data.iloc[i, 1:].values.astype(np.uint8).reshape((28, 28))  #value: 0~255\n",
    "    img2 = Image.fromarray(img2)\n",
    "    label = dig_data.iloc[i, 0]\n",
    "    axes[0].imshow(img2,cmap=\"gray\")\n",
    "#     img2 = trans(img2).cpu().numpy().reshape(28,28)\n",
    "    axes[1].imshow(img2,cmap=\"gray\")\n",
    "    plt.pause(.1)\n",
    "    print(\"Label:\",label)\n",
    "\n",
    "dig_data.head(5)\n",
    "# type(dig_data.iloc[20,1:].values)  #numpy ndarray\n",
    "# type(dig_data.iloc[20,0])  #numpy int64\n"
   ]
  },
  {
   "cell_type": "markdown",
   "metadata": {},
   "source": [
    "# Diff between train_set and Dig_val set"
   ]
  },
  {
   "cell_type": "code",
   "execution_count": null,
   "metadata": {
    "jupyter": {
     "source_hidden": true
    }
   },
   "outputs": [],
   "source": [
    "vr = 1\n",
    "dataset = KMnistDataset(data_len=None,is_validate=True, validate_rate=vr)\n",
    "loader = DataLoader(dataset, batch_size=128, shuffle=False, num_workers=0)\n",
    "\n",
    "result = np.array([])\n",
    "result_dig = np.array([])\n",
    "labels = np.array([])\n",
    "data_num = 0\n",
    "\n",
    "for idx,data in enumerate(loader):\n",
    "    img, label = data\n",
    "    img, label = img.to(device), label.to(device)\n",
    "    _,pred = torch.max(model(img),dim=1)\n",
    "    _,pred_dig = torch.max(dig_model(img),dim=1)\n",
    "    result = np.concatenate([result,pred.cpu().numpy()],axis=0)\n",
    "    result_dig = np.concatenate([result_dig,pred_dig.cpu().numpy()],axis=0)\n",
    "    labels = np.concatenate([labels,label.cpu().numpy()],axis=0)\n",
    "    data_num += img.size(0)\n",
    "\n",
    "print(\"finished:\",data_num)\n",
    "print(np.shape(result),np.shape(result_dig),np.shape(labels))\n",
    "  \n",
    "\n",
    "indices1 = np.where(result!=labels)[0]       #(num)\n",
    "indices2 = np.where(result_dig!=labels)[0]\n",
    "indices3 = np.where((result!=labels)&(result_dig==labels))[0]\n",
    "\n",
    "print(len(indices1),len(indices2),len(indices3))  #dig: 912 51 878\n",
    "#up: 954\n",
    "for i in range(40,50):\n",
    "    idx = indices2[i]\n",
    "    fig, axes = plt.subplots(1,1,figsize=(2,2))\n",
    "    img1 = global_data_dig.iloc[idx, 1:].values.astype(np.uint8).reshape((28, 28))  #value: 0~255\n",
    "\n",
    "    img1 = Image.fromarray(img1)\n",
    "    label1 = result[idx]\n",
    "    label2 = result_dig[idx]\n",
    "    label = labels[idx]\n",
    "#     label = global_data.iloc[idx, 0]  #(num,)\n",
    "    axes.imshow(img1,cmap=\"gray\")\n",
    "    plt.pause(.1)\n",
    "    print(\"Model:\",label1,\" Model2:\",label2,\" Label:\",label)\n"
   ]
  },
  {
   "cell_type": "markdown",
   "metadata": {},
   "source": [
    "# Augment dig dataset"
   ]
  },
  {
   "cell_type": "code",
   "execution_count": 45,
   "metadata": {},
   "outputs": [
    {
     "name": "stdout",
     "output_type": "stream",
     "text": [
      "data shape: (10240, 785)\n"
     ]
    }
   ],
   "source": [
    "vr = 0\n",
    "batch_size = 1024\n",
    "dataset = KMnistDataset(data_len=None,is_validate=False, validate_rate=vr)\n",
    "loader = DataLoader(dataset, batch_size=batch_size, shuffle=True, num_workers=0)\n",
    "num_per_class = 6000  # 6000 * 10 =60000\n",
    "\n",
    "pix_str = \"pixel0\"\n",
    "for i in range(1,784):\n",
    "    pix_str = pix_str + \",pixel\" + str(i)\n",
    "numpy_header = \"label,\" + pix_str\n",
    "\n",
    "dig_data = pd.read_csv(\"./dataset/Dig-MNIST.csv\")\n",
    "# dig_data.head(5)\n"
   ]
  },
  {
   "cell_type": "code",
   "execution_count": 47,
   "metadata": {},
   "outputs": [
    {
     "name": "stdout",
     "output_type": "stream",
     "text": [
      "0\n",
      "1000\n",
      "2000\n",
      "3000\n",
      "4000\n",
      "5000\n",
      "6000\n",
      "7000\n",
      "8000\n",
      "9000\n",
      "10000\n",
      "shape of aug_list: (10240, 785)\n",
      "counter_list: [1024 1024 1024 1024 1024 1024 1024 1024 1024 1024]\n"
     ]
    }
   ],
   "source": [
    "aug_list = np.empty((0,785))\n",
    "counter_list = np.zeros((10,)).astype(int)\n",
    "\n",
    "###Load original 10240 data\n",
    "origin_img = dig_data.iloc[:, 1:].values.astype(np.uint8).reshape((-1,784))  #value: 0~255\n",
    "origin_label = np.array(dig_data.iloc[:,0]).astype(int)\n",
    "\n",
    "for i in range(len(origin_img)):\n",
    "    if i%1000==0:\n",
    "        print(i)\n",
    "    tmp_img = origin_img[i]    #(784,)\n",
    "    tmp_label = origin_label[i].reshape(-1) #(1,)\n",
    "    csv_arr = np.concatenate([tmp_label,tmp_img])   #(785,)\n",
    "    aug_list = np.vstack((aug_list,csv_arr))\n",
    "    counter_list[tmp_label] += 1\n",
    "\n",
    "print(\"shape of aug_list:\",np.shape(aug_list))\n",
    "print(\"counter_list:\",counter_list)"
   ]
  },
  {
   "cell_type": "code",
   "execution_count": 48,
   "metadata": {},
   "outputs": [
    {
     "name": "stdout",
     "output_type": "stream",
     "text": [
      "shape of aug_list: (11264, 785)\n",
      "counter_list: [1135 1137 1121 1131 1123 1137 1119 1121 1124 1116]\n",
      "shape of aug_list: (12288, 785)\n",
      "counter_list: [1229 1245 1233 1247 1228 1234 1225 1203 1226 1218]\n",
      "shape of aug_list: (13312, 785)\n",
      "counter_list: [1318 1331 1358 1356 1326 1323 1343 1305 1334 1318]\n",
      "shape of aug_list: (14336, 785)\n",
      "counter_list: [1420 1433 1449 1464 1422 1438 1450 1408 1445 1407]\n",
      "shape of aug_list: (15360, 785)\n",
      "counter_list: [1523 1529 1562 1561 1534 1542 1545 1492 1557 1515]\n",
      "shape of aug_list: (16384, 785)\n",
      "counter_list: [1625 1629 1661 1653 1639 1639 1667 1611 1650 1610]\n",
      "shape of aug_list: (17408, 785)\n",
      "counter_list: [1730 1734 1770 1765 1733 1739 1756 1703 1763 1715]\n",
      "shape of aug_list: (18432, 785)\n",
      "counter_list: [1838 1828 1868 1859 1853 1851 1852 1814 1840 1829]\n",
      "shape of aug_list: (19456, 785)\n",
      "counter_list: [1943 1933 1956 1954 1948 1958 1945 1932 1937 1950]\n",
      "shape of aug_list: (20480, 785)\n",
      "counter_list: [2048 2048 2048 2048 2048 2048 2048 2048 2048 2048]\n",
      "shape of aug_list: (21504, 785)\n",
      "counter_list: [2150 2152 2145 2151 2142 2146 2149 2156 2156 2157]\n",
      "shape of aug_list: (22528, 785)\n",
      "counter_list: [2238 2247 2240 2249 2253 2250 2251 2268 2261 2271]\n",
      "shape of aug_list: (23552, 785)\n",
      "counter_list: [2333 2370 2348 2355 2363 2356 2344 2353 2363 2367]\n",
      "shape of aug_list: (24576, 785)\n",
      "counter_list: [2442 2474 2453 2452 2465 2455 2462 2450 2452 2471]\n",
      "shape of aug_list: (25600, 785)\n",
      "counter_list: [2553 2575 2562 2554 2555 2566 2564 2565 2547 2559]\n",
      "shape of aug_list: (26624, 785)\n",
      "counter_list: [2667 2666 2674 2656 2657 2657 2675 2658 2649 2665]\n",
      "shape of aug_list: (27648, 785)\n",
      "counter_list: [2770 2768 2759 2762 2770 2761 2782 2754 2758 2764]\n",
      "shape of aug_list: (28672, 785)\n",
      "counter_list: [2878 2877 2863 2863 2868 2856 2884 2862 2875 2846]\n",
      "shape of aug_list: (29696, 785)\n",
      "counter_list: [2972 2973 2973 2972 2963 2963 2988 2965 2971 2956]\n",
      "shape of aug_list: (30720, 785)\n",
      "counter_list: [3072 3072 3072 3072 3072 3072 3072 3072 3072 3072]\n",
      "shape of aug_list: (31744, 785)\n",
      "counter_list: [3172 3166 3176 3170 3172 3195 3178 3174 3174 3167]\n",
      "shape of aug_list: (32768, 785)\n",
      "counter_list: [3268 3281 3275 3287 3273 3298 3254 3277 3284 3271]\n",
      "shape of aug_list: (33792, 785)\n",
      "counter_list: [3372 3392 3391 3393 3371 3386 3359 3381 3373 3374]\n",
      "shape of aug_list: (34816, 785)\n",
      "counter_list: [3481 3493 3489 3504 3471 3473 3459 3479 3484 3483]\n",
      "shape of aug_list: (35840, 785)\n",
      "counter_list: [3585 3593 3598 3605 3564 3566 3571 3585 3581 3592]\n",
      "shape of aug_list: (36864, 785)\n",
      "counter_list: [3694 3692 3694 3706 3667 3656 3677 3700 3687 3691]\n",
      "shape of aug_list: (37888, 785)\n",
      "counter_list: [3791 3807 3796 3798 3782 3763 3782 3796 3779 3794]\n",
      "shape of aug_list: (38912, 785)\n",
      "counter_list: [3887 3903 3902 3897 3887 3886 3894 3892 3870 3894]\n",
      "shape of aug_list: (39936, 785)\n",
      "counter_list: [3993 4006 4003 3998 3977 4000 4000 3994 3985 3980]\n",
      "shape of aug_list: (40960, 785)\n",
      "counter_list: [4096 4096 4096 4096 4096 4096 4096 4096 4096 4096]\n",
      "shape of aug_list: (41984, 785)\n",
      "counter_list: [4193 4187 4199 4195 4194 4211 4207 4204 4203 4191]\n",
      "shape of aug_list: (43008, 785)\n",
      "counter_list: [4304 4291 4304 4307 4292 4297 4302 4304 4310 4297]\n",
      "shape of aug_list: (44032, 785)\n",
      "counter_list: [4415 4383 4399 4414 4401 4391 4406 4403 4417 4403]\n",
      "shape of aug_list: (45056, 785)\n",
      "counter_list: [4525 4502 4489 4536 4502 4493 4499 4504 4515 4491]\n",
      "shape of aug_list: (46080, 785)\n",
      "counter_list: [4620 4615 4602 4640 4578 4582 4606 4622 4615 4600]\n",
      "shape of aug_list: (47104, 785)\n",
      "counter_list: [4712 4725 4740 4741 4683 4675 4697 4711 4726 4694]\n",
      "shape of aug_list: (48128, 785)\n",
      "counter_list: [4806 4819 4843 4871 4791 4772 4795 4806 4825 4800]\n",
      "shape of aug_list: (49152, 785)\n",
      "counter_list: [4920 4921 4935 4948 4894 4886 4914 4906 4914 4914]\n",
      "shape of aug_list: (50176, 785)\n",
      "counter_list: [5019 5015 5022 5038 5005 5006 5020 5015 5015 5021]\n",
      "shape of aug_list: (51200, 785)\n",
      "counter_list: [5120 5120 5120 5120 5120 5120 5120 5120 5120 5120]\n",
      "shape of aug_list: (52224, 785)\n",
      "counter_list: [5213 5234 5229 5208 5225 5220 5227 5231 5228 5209]\n",
      "shape of aug_list: (53248, 785)\n",
      "counter_list: [5317 5341 5337 5315 5326 5307 5334 5330 5314 5327]\n",
      "shape of aug_list: (54272, 785)\n",
      "counter_list: [5421 5441 5445 5422 5438 5423 5427 5437 5401 5417]\n",
      "shape of aug_list: (55296, 785)\n",
      "counter_list: [5523 5547 5545 5529 5530 5524 5516 5545 5509 5528]\n",
      "shape of aug_list: (56320, 785)\n",
      "counter_list: [5636 5635 5651 5637 5635 5624 5616 5645 5619 5622]\n",
      "shape of aug_list: (57344, 785)\n",
      "counter_list: [5738 5734 5753 5744 5760 5725 5715 5735 5717 5723]\n",
      "shape of aug_list: (58368, 785)\n",
      "counter_list: [5848 5830 5868 5857 5854 5820 5825 5835 5812 5819]\n",
      "shape of aug_list: (59392, 785)\n",
      "counter_list: [5936 5937 5955 5958 5955 5926 5930 5961 5917 5917]\n",
      "shape of aug_list: (60000, 785)\n",
      "counter_list: [6000 6000 6000 6000 6000 6000 6000 6000 6000 6000]\n",
      "Augment Finished\n",
      "(60000, 785)\n",
      "[6000 6000 6000 6000 6000 6000 6000 6000 6000 6000]\n"
     ]
    }
   ],
   "source": [
    "###Augment data by random select and affine\n",
    "keep_loop = True\n",
    "while keep_loop:\n",
    "    for idx,data in enumerate(loader):\n",
    "        img, label = data\n",
    "        img, label = img.to(device), label.to(device)\n",
    "\n",
    "        img = img.cpu().numpy()\n",
    "        img = np.uint8(img*255).reshape(batch_size,-1)\n",
    "        label = label.cpu().numpy()\n",
    "        \n",
    "        for i in range(batch_size):\n",
    "            tmp_img = img[i]    #(784,)\n",
    "            tmp_label = label[i].reshape(-1) #(1,)\n",
    "            if counter_list[tmp_label] >= num_per_class:\n",
    "                continue\n",
    "#             print(np.shape(tmp_label),np.shape(tmp_img))\n",
    "            csv_arr = np.concatenate([tmp_label,tmp_img])   #(785,)\n",
    "#             print(\"csv arr shape:\",np.shape(csv_arr))\n",
    "            \n",
    "            aug_list = np.vstack((aug_list,csv_arr))\n",
    "#             print(\"aug_list shape:\",np.shape(aug_list))\n",
    "            counter_list[tmp_label] += 1\n",
    "\n",
    "        print(\"shape of aug_list:\",np.shape(aug_list))\n",
    "        print(\"counter_list:\",counter_list)\n",
    "        if (counter_list>=num_per_class).all() == True:\n",
    "            print(\"Augment Finished\")\n",
    "            print(np.shape(aug_list))\n",
    "            print(counter_list)\n",
    "            np.savetxt(\"./dataset/Dig-Mnist-Augmented.csv\", aug_list, delimiter=\",\",fmt=\"%d\",header=numpy_header,comments='')\n",
    "            keep_loop = False\n",
    "            break"
   ]
  },
  {
   "cell_type": "markdown",
   "metadata": {},
   "source": [
    "# Show data distribution"
   ]
  },
  {
   "cell_type": "code",
   "execution_count": 49,
   "metadata": {},
   "outputs": [
    {
     "name": "stdout",
     "output_type": "stream",
     "text": [
      "(60000,)\n"
     ]
    },
    {
     "data": {
      "text/plain": [
       "Text(0, 0.5, 'frequency')"
      ]
     },
     "execution_count": 49,
     "metadata": {},
     "output_type": "execute_result"
    },
    {
     "data": {
      "image/png": "[encoded data removed]",
      "text/plain": [
       "<Figure size 432x288 with 1 Axes>"
      ]
     },
     "metadata": {
      "needs_background": "light"
     },
     "output_type": "display_data"
    }
   ],
   "source": [
    "# data = np.random.random([1000,])\n",
    "dig_data = pd.read_csv(\"./dataset/Dig-MNIST-Augmented.csv\")\n",
    "# dig_data = pd.read_csv(\"./dataset/train.csv\")\n",
    "dig_data = dig_data.iloc[:,0]\n",
    "print(np.shape(dig_data))\n",
    "\n",
    "plt.hist(dig_data ,density=0,bins=10,label=True,rwidth=0.5)\n",
    "# plt.hist(img[100].reshape(-1) ,density=1,bins=10,range=(0.2,1),label=True)\n",
    "# print((label==5).sum().item())\n",
    "plt.ylabel('frequency')"
   ]
  },
  {
   "cell_type": "code",
   "execution_count": null,
   "metadata": {},
   "outputs": [],
   "source": [
    "plt.hist(data ,density=1,bins=10,label=True,rwidth=0.6)\n",
    "plt.ylabel('frequency')"
   ]
  }
 ],
 "metadata": {
  "kernelspec": {
   "display_name": "Python 3",
   "language": "python",
   "name": "python3"
  },
  "language_info": {
   "codemirror_mode": {
    "name": "ipython",
    "version": 3
   },
   "file_extension": ".py",
   "mimetype": "text/x-python",
   "name": "python",
   "nbconvert_exporter": "python",
   "pygments_lexer": "ipython3",
   "version": "3.6.9"
  }
 },
 "nbformat": 4,
 "nbformat_minor": 4
}
