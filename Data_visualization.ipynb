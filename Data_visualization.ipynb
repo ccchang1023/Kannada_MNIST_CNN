{
 "cells": [
  {
   "cell_type": "code",
   "execution_count": 1,
   "metadata": {},
   "outputs": [],
   "source": [
    "import os, time\n",
    "import numpy as np\n",
    "import torch\n",
    "from torchvision import transforms, datasets\n",
    "from torch.utils.data import DataLoader, Dataset\n",
    "from PIL import Image\n",
    "import matplotlib.pyplot as plt\n",
    "import pandas as pd\n",
    "from torchsummary import summary\n",
    "device = \"cuda\""
   ]
  },
  {
   "cell_type": "code",
   "execution_count": 2,
   "metadata": {},
   "outputs": [],
   "source": [
    "trans_dig = transforms.Compose([\n",
    "        transforms.ToTensor(),  #Take Image as input and convert to tensor with value from 0 to1    \n",
    "#         transforms.Normalize(mean=[0.08889289],std=[0.24106446])  #train_large dataset distribution\n",
    "#         transforms.Normalize(mean=[0.08229437],std=[0.23876116]) #train dataset dist\n",
    "#         transforms.Normalize(mean=[0.09549136],std=[0.24336776]) #dig_augmented distribution\n",
    "    ])\n",
    "\n",
    "trans = transforms.Compose([\n",
    "        transforms.ToTensor(),  #Take Image as input and convert to tensor with value from 0 to1\n",
    "#         transforms.Normalize(mean=[0.08889289],std=[0.24106446])  #train_large dataset distribution\n",
    "#         transforms.Normalize(mean=[0.08229437],std=[0.23876116]) #train dataset dist\n",
    "#         transforms.Normalize(mean=[0.09549136],std=[0.24336776]) #dig_augmented distribution\n",
    "    ])\n",
    "\n",
    "trans_val = transforms.Compose([\n",
    "        transforms.ToTensor(),  #Take Image as input and convert to tensor with value from 0 to1\n",
    "    ])\n"
   ]
  },
  {
   "cell_type": "code",
   "execution_count": 3,
   "metadata": {
    "jupyter": {
     "source_hidden": true
    }
   },
   "outputs": [],
   "source": [
    "# train distribution: mean=[0.08229437],std=[0.23876116]\n",
    "# dig augmented distribution: mean=[0.09549136],std=[0.24336776]\n",
    "# train large distribution: mean=[0.08889286],std=[0.24106438]\n",
    "\n",
    "def get_dataset_mean_std(dataloader):\n",
    "    print(\"Calculate distribution:\")\n",
    "    mean = 0.\n",
    "    std = 0.\n",
    "    nb_samples = 0.\n",
    "    for data in dataloader:\n",
    "        img = data[0].to(device)\n",
    "        batch_samples = img.size(0)\n",
    "        img = img.contiguous().view(batch_samples, img.size(1), -1)\n",
    "        mean += img.mean(2).sum(0)\n",
    "        std += img.std(2).sum(0)\n",
    "        nb_samples += batch_samples\n",
    "        if nb_samples%5120 == 0:\n",
    "            print(\"Finished:\", nb_samples)\n",
    "            \n",
    "    print(\"num of samples:\",nb_samples)\n",
    "    mean /= nb_samples\n",
    "    std /= nb_samples\n",
    "#     print(\"Average mean:\",mean)\n",
    "#     print(\"Average std:\", std)\n",
    "    return mean.cpu().numpy(), std.cpu().numpy()\n"
   ]
  },
  {
   "cell_type": "code",
   "execution_count": 4,
   "metadata": {},
   "outputs": [],
   "source": [
    "# global_data = pd.read_csv(\"./dataset/train.csv\")\n",
    "# global_aug_dig = pd.read_csv(\"./dataset/Dig-Mnist-Augmented.csv\")\n",
    "# global_dig = pd.read_csv(\"./dataset/Dig-MNIST.csv\")\n",
    "global_test_data = pd.read_csv(\"./dataset/test.csv\")\n",
    "\n",
    "class KMnistDataset(Dataset):\n",
    "    def __init__(self,data_len=None, is_validate=False,validate_rate=None,indices=None):\n",
    "        self.is_validate = is_validate\n",
    "        self.data = global_test_data\n",
    "        if data_len == None:\n",
    "            data_len = len(self.data)\n",
    "        \n",
    "        self.indices = indices\n",
    "        if self.is_validate:\n",
    "            self.len = int(data_len*validate_rate)\n",
    "            self.offset = int(data_len*(1-validate_rate))\n",
    "            self.transform = trans_val\n",
    "        else:\n",
    "            self.len = int(data_len*(1-validate_rate))\n",
    "            self.offset = 0\n",
    "            self.transform = trans\n",
    "        \n",
    "    def __getitem__(self, idx):\n",
    "        idx += self.offset\n",
    "        idx = self.indices[idx]\n",
    "        img = self.data.iloc[idx, 1:].values.astype(np.uint8).reshape((28, 28))  #value: 0~255\n",
    "        label = self.data.iloc[idx, 0]  #(num,)\n",
    "        img = Image.fromarray(img)\n",
    "        img = self.transform(img)     #value: 0~1, shape:(1,28,28)\n",
    "        label = torch.as_tensor(label, dtype=torch.uint8)    #value: 0~9, shape(1)\n",
    "        return img, label\n",
    "\n",
    "    def __len__(self):\n",
    "        return self.len"
   ]
  },
  {
   "cell_type": "code",
   "execution_count": null,
   "metadata": {
    "jupyter": {
     "source_hidden": true
    }
   },
   "outputs": [],
   "source": [
    "batch_size = 1\n",
    "num_workers = 0\n",
    "vr = 0\n",
    "k = 5\n",
    "indices_len = 60000\n",
    "# indices_len = 10240\n",
    "# indices_len = 120000\n",
    "\n",
    "###Single dataset\n",
    "indices = np.arange(indices_len)\n",
    "train_dataset = KMnistDataset(data_len=None,is_validate=False,validate_rate=vr,indices=indices)\n",
    "train_loader = DataLoader(train_dataset, batch_size=batch_size, shuffle=False, num_workers=num_workers)\n",
    "# mean, std = get_dataset_mean_std(train_loader)\n",
    "# print(\"train distribution: mean={},std={}\".format(mean, std))\n",
    "\n",
    "for idx,data in enumerate(train_loader):\n",
    "    img, label = data\n",
    "    img, label = img.to(device), label.to(device)\n",
    "#     img = img.cpu().numpy()\n",
    "#     img = np.uint8(img*255).reshape(batch_size,-1)\n",
    "#     label = label.cpu().numpy()\n",
    "    \n",
    "    fig,axes = plt.subplots(1,2,figsize=(2,2))\n",
    "    img = img[0]\n",
    "    origin_img = img.clone()\n",
    "    axes[0].imshow(origin_img.cpu().numpy().reshape(28,28),cmap='gray')\n",
    "    img = transforms.functional.adjust_brightness(img., 0.1)\n",
    "    axes[1].imshow(img.cpu().numpy().reshape(28,28),cmap='gray')\n",
    "    plt.pause(.1)\n",
    "    if idx%10 ==0 :\n",
    "        input('stop')\n"
   ]
  },
  {
   "cell_type": "markdown",
   "metadata": {},
   "source": [
    "# Visualize image"
   ]
  },
  {
   "cell_type": "code",
   "execution_count": 145,
   "metadata": {
    "jupyter": {
     "source_hidden": true
    }
   },
   "outputs": [],
   "source": [
    "global_data = pd.read_csv(\"./dataset/train_test_psuedo_aug.csv\")"
   ]
  },
  {
   "cell_type": "code",
   "execution_count": null,
   "metadata": {
    "jupyter": {
     "source_hidden": true
    }
   },
   "outputs": [],
   "source": [
    "for idx in range(0,300):\n",
    "#     i = np.random.randint(0,60000)\n",
    "    i = idx\n",
    "    img = global_data.iloc[i, 1:].values.astype(np.uint8).reshape((28, 28))  #value: 0~255\n",
    "    img = Image.fromarray(img)\n",
    "    label = global_data.iloc[i, 0]\n",
    "    if label != 6 and label != 9 and label != 0 and label != 1:\n",
    "        continue\n",
    "    fig, axes = plt.subplots(1,2,figsize=(2,2))        \n",
    "    axes[0].imshow(img,cmap=\"gray\")\n",
    "#     img = trans(img).cpu().numpy().reshape(28,28)\n",
    "#     img = transforms.functional.adjust_brightness(img, 0.01)\n",
    "#     img = transforms.functional.adjust_contrast(img, 0.01)\n",
    "#     img = transforms.functional.adjust_saturation(img, 5)\n",
    "    axes[1].imshow(img,cmap=\"gray\")\n",
    "    \n",
    "#     img = global_data_dig.iloc[i, 1:].values.astype(np.uint8).reshape((28, 28))  #value: 0~255\n",
    "#     img = Image.fromarray(img)\n",
    "#     label = global_data_dig.iloc[i, 0]\n",
    "#     axes[2].imshow(img,cmap=\"gray\")\n",
    "#     img = trans(img).cpu().numpy().reshape(28,28)\n",
    "#     axes[3].imshow(img,cmap=\"gray\")\n",
    "    \n",
    "    plt.pause(.1)\n",
    "    print(\"Label:\",label)\n",
    "\n",
    "# data.head(5)"
   ]
  },
  {
   "cell_type": "markdown",
   "metadata": {},
   "source": [
    "# Test Imgaug Speed"
   ]
  },
  {
   "cell_type": "code",
   "execution_count": null,
   "metadata": {
    "jupyter": {
     "source_hidden": true
    }
   },
   "outputs": [],
   "source": [
    "time_counter = np.zeros((5,))\n",
    "for i in range(0,1000):\n",
    "    img = global_data.iloc[i, 1:].values.astype(np.uint8).reshape((28, 28))  #value: 0~255\n",
    "    img = Image.fromarray(img)\n",
    "    label = data.iloc[i, 0]\n",
    "    img = np.array(img)\n",
    "    t = time.clock()\n",
    "    iaa.GaussianBlur(sigma=(0, 0.6)).augment_image(img)\n",
    "    time_counter[0] += time.clock()-t\n",
    "    \n",
    "    t = time.clock()\n",
    "    iaa.AverageBlur(2).augment_image(img)\n",
    "    time_counter[1] += time.clock()-t\n",
    "    \n",
    "    \n",
    "    t = time.clock()\n",
    "    iaa.MedianBlur(3).augment_image(img)\n",
    "    time_counter[2] += time.clock()-t\n",
    "    \n",
    "    t = time.clock()\n",
    "    iaa.MotionBlur(180,-1).augment_image(img)\n",
    "    time_counter[3] += time.clock()-t    \n",
    "\n",
    "print(time_counter/1000)\n"
   ]
  },
  {
   "cell_type": "markdown",
   "metadata": {},
   "source": [
    "# Diff between train_set and Dig_val set"
   ]
  },
  {
   "cell_type": "code",
   "execution_count": 8,
   "metadata": {},
   "outputs": [],
   "source": [
    "import torch.nn as nn\n",
    "import torch.nn.functional as F\n",
    "class convNet(nn.Module):\n",
    "    def __init__(self,in_channels):\n",
    "        super(convNet,self).__init__()\n",
    "        #torch.nn.Conv2d(in_channels, out_channels, kernel_size, stride=1, padding=0, \n",
    "        #                dilation=1, groups=1, bias=True, padding_mode='zeros')\n",
    "        self.c1 = nn.Conv2d(in_channels=in_channels, out_channels=64,kernel_size=3,stride=1,padding=0)\n",
    "        self.bn1 = nn.BatchNorm2d(num_features=64,eps=1e-3,momentum=0.01)\n",
    "        self.c2 = nn.Conv2d(64,64,3,1,0)\n",
    "        self.bn2 = nn.BatchNorm2d(64,1e-3,0.01)\n",
    "        self.c3 = nn.Conv2d(64,64,5,1,2)\n",
    "        self.bn3 = nn.BatchNorm2d(64,1e-3,0.01)\n",
    "        self.m1 = nn.MaxPool2d(2)\n",
    "        self.d1 = nn.Dropout(0.2)\n",
    "        \n",
    "        self.c4 = nn.Conv2d(64,128,3,1,0)\n",
    "        self.bn4 = nn.BatchNorm2d(128,1e-3,0.01)\n",
    "        self.c5 = nn.Conv2d(128,128,3,1,0)\n",
    "        self.bn5 = nn.BatchNorm2d(128,1e-3,0.01)\n",
    "        self.c6 = nn.Conv2d(128,128,5,1,2)\n",
    "        self.bn6 = nn.BatchNorm2d(128,1e-3,0.01)        \n",
    "        self.m2 = nn.MaxPool2d(2)\n",
    "        self.d2 = nn.Dropout(0.2)\n",
    "        \n",
    "        self.c7 = nn.Conv2d(128,256,3,1,0)\n",
    "        self.bn7 = nn.BatchNorm2d(256,1e-3,0.01)\n",
    "        self.m3 = nn.MaxPool2d(2)\n",
    "        self.d3 = nn.Dropout(0.2)\n",
    "\n",
    "        self.fc1 = nn.Linear(256*1*1,256)\n",
    "        self.bn8 = nn.BatchNorm1d(256,1e-3,0.01)\n",
    "        \n",
    "        self.fc2 = nn.Linear(256,128)\n",
    "        self.bn9 = nn.BatchNorm1d(128,1e-3,0.01)\n",
    "        \n",
    "        self.out = nn.Linear(128,10)\n",
    "        \n",
    "        self.init_linear_weights()\n",
    "        \n",
    "    def forward(self,x):\n",
    "        x = self.bn1(F.relu(self.c1(x)))\n",
    "        x = self.bn2(F.relu(self.c2(x)))\n",
    "        x = self.bn3(F.relu(self.c3(x)))\n",
    "        x = self.m1(x)\n",
    "        x = self.d1(x)\n",
    "        \n",
    "        x = self.bn4(F.relu(self.c4(x)))\n",
    "        x = self.bn5(F.relu(self.c5(x)))\n",
    "        x = self.bn6(F.relu(self.c6(x)))\n",
    "        x = self.m2(x)\n",
    "        x = self.d2(x)\n",
    "        \n",
    "        x = self.bn7(F.relu(self.c7(x)))\n",
    "        x = self.m3(x)\n",
    "        x = self.d3(x)        \n",
    "        \n",
    "        x = x.view(-1, 256*1*1) #reshape\n",
    "        \n",
    "        x = self.bn8(self.fc1(x))\n",
    "        x = self.bn9(self.fc2(x))\n",
    "        \n",
    "        return self.out(x)\n",
    "    \n",
    "    def init_linear_weights(self):\n",
    "        nn.init.kaiming_normal_(self.fc1.weight, mode='fan_in')  #default mode: fan_in\n",
    "        nn.init.kaiming_normal_(self.fc2.weight, mode='fan_in')\n",
    "        nn.init.kaiming_normal_(self.out.weight, mode='fan_in')\n",
    "        \n",
    "class convNet_native(nn.Module):\n",
    "    def __init__(self,in_channels):\n",
    "        super(convNet_native,self).__init__()\n",
    "        self.c1 = nn.Conv2d(in_channels=in_channels, out_channels=64,kernel_size=5,stride=1,padding=2)\n",
    "        self.bn1 = nn.BatchNorm2d(num_features=64,momentum=0.1)\n",
    "        self.c2 = nn.Conv2d(64,64,5,1,2)\n",
    "        self.bn2 = nn.BatchNorm2d(num_features=64,momentum=0.1)\n",
    "        self.m1 = nn.MaxPool2d(2)\n",
    "        self.d1 = nn.Dropout(0.2)\n",
    "        \n",
    "        self.c3 = nn.Conv2d(64,128,5,1,2)\n",
    "        self.bn3 = nn.BatchNorm2d(128,0.1)\n",
    "        self.c4 = nn.Conv2d(128,128,5,1,2)\n",
    "        self.bn4 = nn.BatchNorm2d(128,0.1)\n",
    "        self.m2 = nn.MaxPool2d(2)\n",
    "        self.d2 = nn.Dropout(0.2)\n",
    "        \n",
    "        self.c5 = nn.Conv2d(128,256,3,1,1)\n",
    "        self.bn5 = nn.BatchNorm2d(256,0.1)\n",
    "        self.c6 = nn.Conv2d(256,256,3,1,1)\n",
    "        self.bn6 = nn.BatchNorm2d(256,0.1)\n",
    "        self.m3 = nn.MaxPool2d(2)\n",
    "        self.d3 = nn.Dropout(0.2)\n",
    "\n",
    "        self.fc = nn.Linear(256*3*3,256)  #layer for binary entropy\n",
    "        self.d4 = nn.Dropout(0.2)\n",
    "        self.out = nn.Linear(256,2)\n",
    "        \n",
    "    def forward(self,x):\n",
    "        x = F.leaky_relu(self.bn1(self.c1(x)),negative_slope=0.1)\n",
    "        x = F.leaky_relu(self.bn2(self.c2(x)),0.1)\n",
    "        x = self.m1(x)\n",
    "        x = self.d1(x)\n",
    "        \n",
    "        x = F.leaky_relu(self.bn3(self.c3(x)),0.1)\n",
    "        x = F.leaky_relu(self.bn4(self.c4(x)),0.1)\n",
    "        x = self.m2(x)\n",
    "        x = self.d2(x)\n",
    "        \n",
    "        x = F.leaky_relu(self.bn5(self.c5(x)),0.1)\n",
    "        x = F.leaky_relu(self.bn6(self.c6(x)),0.1)\n",
    "        x = self.m3(x)\n",
    "        x = self.d3(x)\n",
    "        \n",
    "        x = x.view(-1, 256*3*3) #reshape\n",
    "        x_b = F.leaky_relu(self.fc(x),0.1)\n",
    "        x_b = self.d4(x_b)\n",
    "        return self.out(x_b)\n",
    "        "
   ]
  },
  {
   "cell_type": "code",
   "execution_count": null,
   "metadata": {},
   "outputs": [],
   "source": [
    "native_model = convNet_native(in_channels=1)\n",
    "native_model.cuda()\n",
    "native_model.load_state_dict(torch.load(\"Kmnist_saved_model/ensemble/native_classifier/Fold0_loss0.0242_acc_b99.704_without_aug\"))\n",
    "native_model.eval()\n",
    "\n",
    "# dig_model = convNet(in_channels=1)\n",
    "# dig_model.cuda()\n",
    "# dig_model.load_state_dict(torch.load(\"Kmnist_saved_model/Fold0_loss0.010_acc99.863\"))\n",
    "# dig_model.eval()\n",
    "\n",
    "# model = convNet(in_channels=1)\n",
    "# model.cuda()\n",
    "# model.load_state_dict(torch.load(\"Kmnist_saved_model/ensemble/10_fold_tuned_cnn/adam/Fold8_loss0.0033_acc99.917\"))\n",
    "# model.eval()"
   ]
  },
  {
   "cell_type": "code",
   "execution_count": 10,
   "metadata": {},
   "outputs": [
    {
     "name": "stdout",
     "output_type": "stream",
     "text": [
      "Native rate: 0.991\n",
      "Non Native rate: 0.009000000000000008\n"
     ]
    }
   ],
   "source": [
    "vr = 1\n",
    "indices=np.arange(5000)\n",
    "dataset = KMnistDataset(data_len=None,is_validate=True, validate_rate=vr,indices=indices)\n",
    "loader = DataLoader(dataset, batch_size=128, shuffle=False, num_workers=2)\n",
    "\n",
    "## Test Native Classifier\n",
    "counter = 0\n",
    "data_num = 0\n",
    "with torch.no_grad():\n",
    "    for idx,data in enumerate(loader):\n",
    "        img, label = data\n",
    "        img, label = img.to(device), label.to(device)\n",
    "        img = data[0].to(device)\n",
    "        \n",
    "        _,pred_native = torch.max(native_model(img),dim=1)\n",
    "        counter += (pred_native.cpu().numpy()).sum()\n",
    "        data_num += img.size(0)\n",
    "        \n",
    "print(\"Native rate:\",counter/data_num)\n",
    "print(\"Non Native rate:\",1-(counter/data_num))\n",
    "\n",
    "# ### Inference models\n",
    "# ensemble_models = []\n",
    "# ensemble_root = \"Kmnist_saved_model/ensemble/10_fold_tuned_cnn/adam_batch256\"\n",
    "# for file_name in os.listdir(ensemble_root):\n",
    "#     if file_name.find(\"Fold\") == -1:\n",
    "#         continue\n",
    "#     model = convNet(in_channels=1)\n",
    "#     model.cuda()\n",
    "#     model.load_state_dict(torch.load(\"{}/{}\".format(ensemble_root,file_name)))\n",
    "#     model.eval()\n",
    "#     ensemble_models.append(model)\n",
    "\n",
    "# model_num = len(ensemble_models)\n",
    "# print(\"model num:\",model_num)\n",
    "\n",
    "# result = np.array([])\n",
    "# result_dig = np.array([])\n",
    "# labels = np.array([])\n",
    "# data_num = 0\n",
    "# with torch.no_grad():\n",
    "#     for idx,data in enumerate(loader):\n",
    "#         img, label = data\n",
    "#         img, label = img.to(device), label.to(device)\n",
    "        \n",
    "#         ###Average Ensemble\n",
    "#         pred_list = torch.Tensor([]).to(device)\n",
    "#         for i in range(model_num):\n",
    "#             pred = ensemble_models[i](img) #(batch_num,10)\n",
    "#             pred_list = torch.cat((pred_list,pred.unsqueeze(2)),dim=2) #pred_list: (batch_num,10,model_num)\n",
    "#         pred = torch.mean(pred_list,dim=2)   #(batch,10)\n",
    "#         _,pred = torch.max(pred.data, 1)   #(batch_num,)        \n",
    "# #         _,pred = torch.max(model(img),dim=1)\n",
    "        \n",
    "# #         _,pred_dig = torch.max(dig_model(img),dim=1)\n",
    "#         result = np.concatenate([result,pred.cpu().numpy()],axis=0)\n",
    "# #         result_dig = np.concatenate([result_dig,pred_dig.cpu().numpy()],axis=0)\n",
    "#         labels = np.concatenate([labels,label.cpu().numpy()],axis=0)\n",
    "#         data_num += img.size(0)\n",
    "\n",
    "# print(\"finished:\",data_num)\n",
    "# print(np.shape(result),np.shape(result_dig),np.shape(labels))\n",
    "  "
   ]
  },
  {
   "cell_type": "code",
   "execution_count": null,
   "metadata": {
    "jupyter": {
     "source_hidden": true
    }
   },
   "outputs": [],
   "source": [
    "import seaborn as sn\n",
    "from sklearn.metrics import confusion_matrix, accuracy_score, classification_report\n",
    "\n",
    "###Confusion matrix\n",
    "print(classification_report(labels, result))\n",
    "plt.figure(figsize=(10,10))\n",
    "confusion_mat = confusion_matrix(labels, result)\n",
    "sn.heatmap(confusion_mat, annot=True, cmap='YlGnBu')\n",
    "plt.title('Confusion matrix of Real World validation result')\n",
    "plt.ylabel('True label')\n",
    "plt.xlabel('Predicted label')\n"
   ]
  },
  {
   "cell_type": "code",
   "execution_count": null,
   "metadata": {
    "jupyter": {
     "source_hidden": true
    }
   },
   "outputs": [],
   "source": [
    "indices1 = np.where(result!=labels)[0]       #(num)\n",
    "indices2 = np.where(result_dig!=labels)[0]\n",
    "indices3 = np.where((result!=labels)&(result_dig==labels))[0]\n",
    "indices4 = np.where((result==labels))[0]\n",
    "\n",
    "cirtic_label_list = []\n",
    "label_list = []\n",
    "\n",
    "print(len(indices1),len(indices2),len(indices3),len(indices4))  #dig: 912 51 878\n",
    "#up: 954\n",
    "for i in range(16900,len(indices1)):\n",
    "    idx = indices1[i]\n",
    "    img1 = global_data.iloc[idx, 1:].values.astype(np.uint8).reshape((28, 28))  #value: 0~255\n",
    "    img1 = Image.fromarray(img1)\n",
    "    label1 = result[idx]\n",
    "#     label2 = result_dig[idx]\n",
    "    label2 = None\n",
    "    label = labels[idx]\n",
    "    cirtic_label_list.append(label)\n",
    "    \n",
    "    if label != label1:\n",
    "        fig, axes = plt.subplots(1,1,figsize=(2,2))\n",
    "        axes.imshow(img1,cmap=\"gray\")\n",
    "        plt.pause(.1)\n",
    "        print(idx)\n",
    "        print(\"Model:\",label1,\" Model2:\",label2,\" Label:\",label)\n",
    "    else:\n",
    "        continue\n",
    "\n",
    "# plt.figure(figsize=(8,4))\n",
    "# data = np.uint8(cirtic_label_list)\n",
    "# print(len(data))\n",
    "# plt.hist(data ,density=0,align=\"mid\",bins=10,rwidth=1)\n",
    "# plt.xticks(range(10))\n",
    "# plt.ylabel('frequency')\n",
    "\n",
    "# plt.figure(figsize=(8,4))\n",
    "# data = np.uint8(label_list)\n",
    "# print(len(data))\n",
    "# plt.hist(data ,density=0,align=\"mid\",bins=10,rwidth=1)\n",
    "# plt.xticks(range(10))\n",
    "# plt.ylabel('frequency')\n",
    "\n",
    "\n",
    "# 31 1 0 59969"
   ]
  },
  {
   "cell_type": "markdown",
   "metadata": {},
   "source": [
    "# Combine train.csv and Dig augmented, add additional \"native writer label\""
   ]
  },
  {
   "cell_type": "code",
   "execution_count": 154,
   "metadata": {
    "jupyter": {
     "source_hidden": true
    }
   },
   "outputs": [],
   "source": [
    "pix_str = \"pixel0\"\n",
    "for i in range(1,784):\n",
    "    pix_str = pix_str + \",pixel\" + str(i)\n",
    "numpy_header = \"native_label,label,\" + pix_str\n",
    "\n",
    "origin_data = pd.read_csv(\"./dataset/train.csv\")\n",
    "dig_aug_data = pd.read_csv(\"./dataset/Dig-Mnist-Augmented.csv\")"
   ]
  },
  {
   "cell_type": "code",
   "execution_count": null,
   "metadata": {
    "jupyter": {
     "source_hidden": true
    }
   },
   "outputs": [],
   "source": [
    "train_csv = np.array(origin_data).astype(int)\n",
    "dig_aug_csv = np.array(dig_aug_data).astype(int)\n",
    "native_label0 = np.zeros((60000,1)).astype(int)\n",
    "native_label1 = np.ones((60000,1)).astype(int)\n",
    "\n",
    "train_csv = np.concatenate([native_label1,train_csv],axis=1)\n",
    "dig_aug_csv = np.concatenate([native_label0,dig_aug_csv],axis=1)\n",
    "\n",
    "print(np.shape(train_csv))\n",
    "print(np.shape(dig_aug_csv))\n",
    "new_csv = np.vstack([train_csv,dig_aug_csv])\n",
    "print(np.shape(new_csv))\n",
    "np.savetxt(\"./dataset/large_train.csv\", new_csv, delimiter=\",\",fmt=\"%d\",header=numpy_header,comments='')\n",
    "\n"
   ]
  },
  {
   "cell_type": "markdown",
   "metadata": {},
   "source": [
    "# Augment dig dataset"
   ]
  },
  {
   "cell_type": "code",
   "execution_count": null,
   "metadata": {
    "jupyter": {
     "source_hidden": true
    }
   },
   "outputs": [],
   "source": [
    "vr = 0\n",
    "batch_size = 1024\n",
    "dataset = KMnistDataset(data_len=None,is_validate=False, validate_rate=vr)\n",
    "loader = DataLoader(dataset, batch_size=batch_size, shuffle=True, num_workers=0)\n",
    "num_per_class = 6000  # 6000 * 10 =60000\n",
    "\n",
    "pix_str = \"pixel0\"\n",
    "for i in range(1,784):\n",
    "    pix_str = pix_str + \",pixel\" + str(i)\n",
    "numpy_header = \"label,\" + pix_str\n",
    "\n",
    "dig_data = pd.read_csv(\"./dataset/Dig-MNIST.csv\")\n",
    "# dig_data.head(5)\n"
   ]
  },
  {
   "cell_type": "code",
   "execution_count": null,
   "metadata": {
    "jupyter": {
     "source_hidden": true
    }
   },
   "outputs": [],
   "source": [
    "aug_list = np.empty((0,785))\n",
    "counter_list = np.zeros((10,)).astype(int)\n",
    "\n",
    "###Load original 10240 data\n",
    "origin_img = dig_data.iloc[:, 1:].values.astype(np.uint8).reshape((-1,784))  #value: 0~255\n",
    "origin_label = np.array(dig_data.iloc[:,0]).astype(int)\n",
    "\n",
    "for i in range(len(origin_img)):\n",
    "    if i%1000==0:\n",
    "        print(i)\n",
    "    tmp_img = origin_img[i]    #(784,)\n",
    "    tmp_label = origin_label[i].reshape(-1) #(1,)\n",
    "    csv_arr = np.concatenate([tmp_label,tmp_img])   #(785,)\n",
    "    aug_list = np.vstack((aug_list,csv_arr))\n",
    "    counter_list[tmp_label] += 1\n",
    "\n",
    "print(\"shape of aug_list:\",np.shape(aug_list))\n",
    "print(\"counter_list:\",counter_list)"
   ]
  },
  {
   "cell_type": "code",
   "execution_count": null,
   "metadata": {
    "jupyter": {
     "source_hidden": true
    }
   },
   "outputs": [],
   "source": [
    "###Augment data by random select and affine\n",
    "keep_loop = True\n",
    "while keep_loop:\n",
    "    for idx,data in enumerate(loader):\n",
    "        img, label = data\n",
    "        img, label = img.to(device), label.to(device)\n",
    "\n",
    "        img = img.cpu().numpy()\n",
    "        img = np.uint8(img*255).reshape(batch_size,-1)\n",
    "        label = label.cpu().numpy()\n",
    "        \n",
    "        for i in range(batch_size):\n",
    "            tmp_img = img[i]    #(784,)\n",
    "            tmp_label = label[i].reshape(-1) #(1,)\n",
    "            if counter_list[tmp_label] >= num_per_class:\n",
    "                continue\n",
    "#             print(np.shape(tmp_label),np.shape(tmp_img))\n",
    "            csv_arr = np.concatenate([tmp_label,tmp_img])   #(785,)\n",
    "#             print(\"csv arr shape:\",np.shape(csv_arr))\n",
    "            \n",
    "            aug_list = np.vstack((aug_list,csv_arr))\n",
    "#             print(\"aug_list shape:\",np.shape(aug_list))\n",
    "            counter_list[tmp_label] += 1\n",
    "\n",
    "        print(\"shape of aug_list:\",np.shape(aug_list))\n",
    "        print(\"counter_list:\",counter_list)\n",
    "        if (counter_list>=num_per_class).all() == True:\n",
    "            print(\"Augment Finished\")\n",
    "            print(np.shape(aug_list))\n",
    "            print(counter_list)\n",
    "            np.savetxt(\"./dataset/Dig-Mnist-Augmented.csv\", aug_list, delimiter=\",\",fmt=\"%d\",header=numpy_header,comments='')\n",
    "            keep_loop = False\n",
    "            break"
   ]
  },
  {
   "cell_type": "markdown",
   "metadata": {},
   "source": [
    "# Pseudo labeling"
   ]
  },
  {
   "cell_type": "code",
   "execution_count": null,
   "metadata": {},
   "outputs": [],
   "source": [
    "trans_test = transforms.Compose([\n",
    "        transforms.ToTensor(),  #Take Image as input and convert to tensor with value from 0 to1\n",
    "    ])\n",
    "\n",
    "class TestDataset(Dataset):\n",
    "    def __init__(self,data_len=None):\n",
    "        self.data = pd.read_csv(\"./dataset/test.csv\")\n",
    "        print(\"data shape:\", np.shape(self.data))\n",
    "        self.transform = trans_test\n",
    "        if data_len == None:\n",
    "            self.len = len(self.data)\n",
    "        \n",
    "    def __getitem__(self, idx):\n",
    "        img = self.data.iloc[idx, 1:].values.astype(np.uint8).reshape((28, 28))  #value: 0~255\n",
    "        img = Image.fromarray(img)\n",
    "        img = self.transform(img)     #value: 0~1, shape:(1,28,28)\n",
    "        return img, torch.Tensor([])\n",
    "\n",
    "    def __len__(self):\n",
    "        return self.len\n",
    "    \n",
    "test_dataset = TestDataset(data_len=None)\n",
    "test_loader = DataLoader(test_dataset, batch_size=128, shuffle=False, num_workers=0)\n",
    "\n",
    "### Inference models\n",
    "ensemble_models = []\n",
    "ensemble_root = \"Kmnist_saved_model/ensemble/10_fold_tuned_cnn/adam_batch1024_baseline\"\n",
    "for file_name in os.listdir(ensemble_root):\n",
    "    if file_name.find(\"Fold\") == -1:\n",
    "        continue\n",
    "    model = convNet(in_channels=1)\n",
    "    model.cuda()\n",
    "    model.load_state_dict(torch.load(\"{}/{}\".format(ensemble_root,file_name)))\n",
    "    model.eval()\n",
    "    ensemble_models.append(model)\n",
    "\n",
    "model_num = len(ensemble_models)\n",
    "print(\"model num:\",model_num)\n",
    "\n",
    "psuedo_labels = np.array([])\n",
    "\n",
    "with torch.no_grad():\n",
    "    for idx,data in enumerate(test_loader):\n",
    "            img, label = data\n",
    "            img, label = img.to(device), label.to(device)\n",
    "\n",
    "            ###Average Ensemble\n",
    "            pred_list = torch.Tensor([]).to(device)\n",
    "            for i in range(model_num):\n",
    "                pred = ensemble_models[i](img) #(batch_num,10)\n",
    "                pred_list = torch.cat((pred_list,pred.unsqueeze(2)),dim=2) #pred_list: (batch_num,10,model_num)\n",
    "            pred = torch.mean(pred_list,dim=2)   #(batch,10)\n",
    "            _,pred = torch.max(pred.data, 1)   #(batch_num,)        \n",
    "    #         _,pred = torch.max(model(img),dim=1)\n",
    "\n",
    "            psuedo_labels = np.concatenate([psuedo_labels,pred.cpu().numpy()],axis=0)\n",
    "            data_num += img.size(0)\n",
    "            \n",
    "print(\"Inference complete:\",np.shape(psuedo_labels))"
   ]
  },
  {
   "cell_type": "code",
   "execution_count": null,
   "metadata": {},
   "outputs": [],
   "source": [
    "pix_str = \"pixel0\"\n",
    "for i in range(1,784):\n",
    "    pix_str = pix_str + \",pixel\" + str(i)\n",
    "numpy_header = \"label,\" + pix_str\n",
    "\n",
    "test_csv = np.array(pd.read_csv(\"./dataset/test.csv\")).astype(int)[:,1:]\n",
    "\n",
    "print(np.shape(test_csv))\n",
    "\n",
    "pseudo_labels = psuedo_labels.reshape(-1,1).astype(int)\n",
    "print(\"shape psuedo_labels:\",np.shape(psuedo_labels))\n",
    "test_csv = np.concatenate([pseudo_labels,test_csv],axis=1)\n",
    "\n",
    "print(np.shape(test_csv))\n",
    "np.savetxt(\"./dataset/test_psuedo_label.csv\", test_csv, delimiter=\",\",fmt=\"%d\",header=numpy_header,comments='')\n",
    "\n",
    "test_csv = pd.read_csv(\"./dataset/test_psuedo_label.csv\")\n",
    "test_csv.head()"
   ]
  },
  {
   "cell_type": "markdown",
   "metadata": {},
   "source": [
    "# Augmented psuedo_label test dataset"
   ]
  },
  {
   "cell_type": "code",
   "execution_count": null,
   "metadata": {
    "jupyter": {
     "source_hidden": true
    }
   },
   "outputs": [],
   "source": [
    "trans_aug = transforms.Compose([\n",
    "        transforms.ColorJitter(0.5,0.2,0,0),\n",
    "        transforms.RandomAffine(degrees=10,translate=(0.1,0.1),scale=(0.9,1.1)),\n",
    "        transforms.ToTensor(),  #Take Image as input and convert to tensor with value from 0 to1\n",
    "    ])\n",
    "\n",
    "class AugDataset(Dataset):\n",
    "    def __init__(self,data_len=None):\n",
    "        self.data = pd.read_csv(\"./dataset/test_psuedo_label.csv\")\n",
    "        print(\"data shape:\", np.shape(self.data))\n",
    "        self.transform = trans_aug\n",
    "        if data_len == None:\n",
    "            self.len = len(self.data)\n",
    "        \n",
    "    def __getitem__(self, idx):\n",
    "        img = self.data.iloc[idx, 1:].values.astype(np.uint8).reshape((28, 28))  #value: 0~255\n",
    "        label = self.data.iloc[idx, 0]  #(num,)\n",
    "        img = Image.fromarray(img)\n",
    "        img = self.transform(img)     #value: 0~1, shape:(1,28,28)\n",
    "        label = torch.as_tensor(label, dtype=torch.uint8)    #value: 0~9, shape(1)\n",
    "        return img, label\n",
    "\n",
    "    def __len__(self):\n",
    "        return self.len\n",
    "\n",
    "vr = 0\n",
    "batch_size = 1024\n",
    "dataset = AugDataset(data_len=None)\n",
    "loader = DataLoader(dataset, batch_size=batch_size, shuffle=False, num_workers=10)\n",
    "num_per_class = 6000  # 6000 * 10 =60000\n",
    "aug_list = np.empty((0,785))\n",
    "counter_list = np.zeros((10,)).astype(int)\n",
    "pix_str = \"pixel0\"\n",
    "for i in range(1,784):\n",
    "    pix_str = pix_str + \",pixel\" + str(i)\n",
    "numpy_header = \"label,\" + pix_str\n",
    "    \n",
    "###Augment data by random select and affine\n",
    "keep_loop = True\n",
    "while keep_loop:\n",
    "    for idx,data in enumerate(loader):\n",
    "        img, label = data\n",
    "        img, label = img.to(device), label.to(device)\n",
    "\n",
    "        img = img.cpu().numpy()\n",
    "        img = np.uint8(img*255).reshape(-1,784)\n",
    "        label = label.cpu().numpy()\n",
    "        \n",
    "        for i in range(img.shape[0]):\n",
    "            tmp_img = img[i]    #(784,)\n",
    "            tmp_label = label[i].reshape(-1) #(1,)\n",
    "            if counter_list[tmp_label] >= num_per_class:\n",
    "                continue\n",
    "#             print(np.shape(tmp_label),np.shape(tmp_img))\n",
    "            csv_arr = np.concatenate([tmp_label,tmp_img])   #(785,)\n",
    "#             print(\"csv arr shape:\",np.shape(csv_arr))\n",
    "            \n",
    "            aug_list = np.vstack((aug_list,csv_arr))\n",
    "#             print(\"aug_list shape:\",np.shape(aug_list))\n",
    "            counter_list[tmp_label] += 1\n",
    "\n",
    "        print(\"shape of aug_list:\",np.shape(aug_list))\n",
    "        print(\"counter_list:\",counter_list)\n",
    "        if (counter_list>=num_per_class).all() == True:\n",
    "            print(\"Augment Finished\")\n",
    "            print(np.shape(aug_list))\n",
    "            print(counter_list)\n",
    "            np.savetxt(\"./dataset/test_psuedo_augmented.csv\", aug_list, delimiter=\",\",fmt=\"%d\",header=numpy_header,comments='')\n",
    "            keep_loop = False\n",
    "            break"
   ]
  },
  {
   "cell_type": "markdown",
   "metadata": {},
   "source": [
    "# Combine train.csv with test_psuedo_aug.csv"
   ]
  },
  {
   "cell_type": "code",
   "execution_count": 11,
   "metadata": {},
   "outputs": [
    {
     "name": "stdout",
     "output_type": "stream",
     "text": [
      "(60000, 785)\n",
      "(5000, 785)\n",
      "(65000, 785)\n"
     ]
    }
   ],
   "source": [
    "pix_str = \"pixel0\"\n",
    "for i in range(1,784):\n",
    "    pix_str = pix_str + \",pixel\" + str(i)\n",
    "numpy_header = \"label,\" + pix_str\n",
    "\n",
    "train_csv = np.array(pd.read_csv(\"./dataset/train.csv\")).astype(int)\n",
    "test_csv = np.array(pd.read_csv(\"./dataset/test_psuedo_label.csv\")).astype(int)\n",
    "# test_csv = np.array(pd.read_csv(\"./dataset/test_psuedo_augmented.csv\")).astype(int)\n",
    "\n",
    "print(np.shape(train_csv))\n",
    "print(np.shape(test_csv))\n",
    "new_csv = np.vstack([train_csv,test_csv])\n",
    "np.random.shuffle(new_csv)  #Multi-dimensional arrays are only shuffled along the first axis:\n",
    "np.random.shuffle(new_csv)\n",
    "np.random.shuffle(new_csv)\n",
    "\n",
    "print(np.shape(new_csv))\n",
    "np.savetxt(\"./dataset/train_test_psuedo_65k.csv\", new_csv, delimiter=\",\",fmt=\"%d\",header=numpy_header,comments='')\n"
   ]
  },
  {
   "cell_type": "markdown",
   "metadata": {},
   "source": [
    "# Show data distribution"
   ]
  },
  {
   "cell_type": "code",
   "execution_count": 12,
   "metadata": {},
   "outputs": [
    {
     "data": {
      "text/plain": [
       "([<matplotlib.axis.XTick at 0x7fdd84872080>,\n",
       "  <matplotlib.axis.XTick at 0x7fdd84878978>,\n",
       "  <matplotlib.axis.XTick at 0x7fdd84878668>,\n",
       "  <matplotlib.axis.XTick at 0x7fdd86badb00>,\n",
       "  <matplotlib.axis.XTick at 0x7fdd86badc50>,\n",
       "  <matplotlib.axis.XTick at 0x7fdd86be24a8>,\n",
       "  <matplotlib.axis.XTick at 0x7fdd86be2978>,\n",
       "  <matplotlib.axis.XTick at 0x7fdd86be2e48>,\n",
       "  <matplotlib.axis.XTick at 0x7fdd86bb3358>,\n",
       "  <matplotlib.axis.XTick at 0x7fdd86bb3828>],\n",
       " <a list of 10 Text xticklabel objects>)"
      ]
     },
     "execution_count": 12,
     "metadata": {},
     "output_type": "execute_result"
    },
    {
     "data": {
      "image/png": "[encoded data removed]",
      "text/plain": [
       "<Figure size 432x288 with 1 Axes>"
      ]
     },
     "metadata": {
      "needs_background": "light"
     },
     "output_type": "display_data"
    }
   ],
   "source": [
    "# data = np.random.random([1000,])\n",
    "# global_data = pd.read_csv(\"./dataset/train_large.csv\")\n",
    "global_data = pd.read_csv(\"./dataset/train.csv\")\n",
    "# global_data_test = pd.read_csv(\"./dataset/train_test_psuedo_aug.csv\")\n",
    "global_data_test = pd.read_csv(\"./dataset/train_test_psuedo_65k.csv\")\n",
    "\n",
    "# data1 = global_data.iloc[:10,1:]\n",
    "data2 = global_data_test.iloc[:,0]\n",
    "\n",
    "plt.hist(data2 ,density=0,label=True,rwidth=0.3)\n",
    "plt.xticks(range(0,10))\n",
    "\n",
    "# print((label==5).sum().item())\n",
    "# plt.ylabel('frequency')\n",
    "\n"
   ]
  }
 ],
 "metadata": {
  "kernelspec": {
   "display_name": "Python 3",
   "language": "python",
   "name": "python3"
  },
  "language_info": {
   "codemirror_mode": {
    "name": "ipython",
    "version": 3
   },
   "file_extension": ".py",
   "mimetype": "text/x-python",
   "name": "python",
   "nbconvert_exporter": "python",
   "pygments_lexer": "ipython3",
   "version": "3.6.9"
  }
 },
 "nbformat": 4,
 "nbformat_minor": 4
}
